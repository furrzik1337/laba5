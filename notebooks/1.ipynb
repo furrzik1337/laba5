{
 "cells": [
  {
   "cell_type": "code",
   "execution_count": 25,
   "id": "d2fd711a-6239-4314-9fee-3d1a142c77c1",
   "metadata": {},
   "outputs": [
    {
     "name": "stdout",
     "output_type": "stream",
     "text": [
      "DataFrame из словаря списков:\n",
      "   ID      Имя  Возраст    Должность      Отдел  Зарплата  Стаж работы\n",
      "0   1     Иван       25      Инженер         IT     60000            2\n",
      "1   2    Ольга       30     Аналитик  Маркетинг     75000            5\n",
      "2   3  Алексей       40     Менеджер    Продажи     90000           15\n",
      "3   4    Мария       35  Программист         IT     80000            7\n",
      "4   5   Сергей       28   Специалист         HR     50000            3\n",
      "\n",
      "Информация о типах данных:\n",
      "<class 'pandas.core.frame.DataFrame'>\n",
      "RangeIndex: 5 entries, 0 to 4\n",
      "Data columns (total 7 columns):\n",
      " #   Column       Non-Null Count  Dtype \n",
      "---  ------       --------------  ----- \n",
      " 0   ID           5 non-null      int64 \n",
      " 1   Имя          5 non-null      object\n",
      " 2   Возраст      5 non-null      int64 \n",
      " 3   Должность    5 non-null      object\n",
      " 4   Отдел        5 non-null      object\n",
      " 5   Зарплата     5 non-null      int64 \n",
      " 6   Стаж работы  5 non-null      int64 \n",
      "dtypes: int64(4), object(3)\n",
      "memory usage: 412.0+ bytes\n",
      "None\n"
     ]
    }
   ],
   "source": [
    "import pandas as pd\n",
    "\n",
    "# Данные из таблицы (первые 5 сотрудников)\n",
    "data_dict = {\n",
    "    'ID': [1, 2, 3, 4, 5],\n",
    "    'Имя': ['Иван', 'Ольга', 'Алексей', 'Мария', 'Сергей'],\n",
    "    'Возраст': [25, 30, 40, 35, 28],\n",
    "    'Должность': ['Инженер', 'Аналитик', 'Менеджер', 'Программист', 'Специалист'],\n",
    "    'Отдел': ['IT', 'Маркетинг', 'Продажи', 'IT', 'HR'],\n",
    "    'Зарплата': [60000, 75000, 90000, 80000, 50000],\n",
    "    'Стаж работы': [2, 5, 15, 7, 3]\n",
    "}\n",
    "\n",
    "df_dict = pd.DataFrame(data_dict)\n",
    "print(\"DataFrame из словаря списков:\")\n",
    "print(df_dict)\n",
    "print(\"\\nИнформация о типах данных:\")\n",
    "print(df_dict.info())"
   ]
  },
  {
   "cell_type": "code",
   "execution_count": 21,
   "id": "71b8a374-ca96-4f59-b0e3-4ea070918e53",
   "metadata": {},
   "outputs": [
    {
     "name": "stdout",
     "output_type": "stream",
     "text": [
      "\n",
      "DataFrame из списка словарей:\n",
      "   ID      Имя  Возраст    Должность      Отдел  Зарплата  Стаж работы\n",
      "0   1     Иван       25      Инженер         IT     60000            2\n",
      "1   2    Ольга       30     Аналитик  Маркетинг     75000            5\n",
      "2   3  Алексей       40     Менеджер    Продажи     90000           15\n",
      "3   4    Мария       35  Программист         IT     80000            7\n",
      "4   5   Сергей       28   Специалист         HR     50000            3\n",
      "\n",
      "Информация о типах данных:\n",
      "<class 'pandas.core.frame.DataFrame'>\n",
      "RangeIndex: 5 entries, 0 to 4\n",
      "Data columns (total 7 columns):\n",
      " #   Column       Non-Null Count  Dtype \n",
      "---  ------       --------------  ----- \n",
      " 0   ID           5 non-null      int64 \n",
      " 1   Имя          5 non-null      object\n",
      " 2   Возраст      5 non-null      int64 \n",
      " 3   Должность    5 non-null      object\n",
      " 4   Отдел        5 non-null      object\n",
      " 5   Зарплата     5 non-null      int64 \n",
      " 6   Стаж работы  5 non-null      int64 \n",
      "dtypes: int64(4), object(3)\n",
      "memory usage: 412.0+ bytes\n",
      "None\n"
     ]
    }
   ],
   "source": [
    "data_list = [\n",
    "    {'ID': 1, 'Имя': 'Иван', 'Возраст': 25, 'Должность': 'Инженер', \n",
    "     'Отдел': 'IT', 'Зарплата': 60000, 'Стаж работы': 2},\n",
    "    {'ID': 2, 'Имя': 'Ольга', 'Возраст': 30, 'Должность': 'Аналитик', \n",
    "     'Отдел': 'Маркетинг', 'Зарплата': 75000, 'Стаж работы': 5},\n",
    "    {'ID': 3, 'Имя': 'Алексей', 'Возраст': 40, 'Должность': 'Менеджер', \n",
    "     'Отдел': 'Продажи', 'Зарплата': 90000, 'Стаж работы': 15},\n",
    "    {'ID': 4, 'Имя': 'Мария', 'Возраст': 35, 'Должность': 'Программист', \n",
    "     'Отдел': 'IT', 'Зарплата': 80000, 'Стаж работы': 7},\n",
    "    {'ID': 5, 'Имя': 'Сергей', 'Возраст': 28, 'Должность': 'Специалист', \n",
    "     'Отдел': 'HR', 'Зарплата': 50000, 'Стаж работы': 3}\n",
    "]\n",
    "\n",
    "df_list = pd.DataFrame(data_list)\n",
    "print(\"\\nDataFrame из списка словарей:\")\n",
    "print(df_list)\n",
    "print(\"\\nИнформация о типах данных:\")\n",
    "print(df_list.info())"
   ]
  },
  {
   "cell_type": "code",
   "execution_count": 17,
   "id": "7cd2aa01-b087-4d7a-ae52-251987ba909e",
   "metadata": {},
   "outputs": [
    {
     "name": "stdout",
     "output_type": "stream",
     "text": [
      "\n",
      "DataFrame с случайными возрастами из NumPy:\n",
      "   ID      Имя  Возраст    Должность      Отдел  Зарплата  Стаж работы\n",
      "0   1     Иван       58      Инженер         IT     60000            2\n",
      "1   2    Ольга       48     Аналитик  Маркетинг     75000            5\n",
      "2   3  Алексей       34     Менеджер    Продажи     90000           15\n",
      "3   4    Мария       27  Программист         IT     80000            7\n",
      "4   5   Сергей       40   Специалист         HR     50000            3\n",
      "\n",
      "Информация о типах данных:\n",
      "<class 'pandas.core.frame.DataFrame'>\n",
      "RangeIndex: 5 entries, 0 to 4\n",
      "Data columns (total 7 columns):\n",
      " #   Column       Non-Null Count  Dtype \n",
      "---  ------       --------------  ----- \n",
      " 0   ID           5 non-null      int64 \n",
      " 1   Имя          5 non-null      object\n",
      " 2   Возраст      5 non-null      int32 \n",
      " 3   Должность    5 non-null      object\n",
      " 4   Отдел        5 non-null      object\n",
      " 5   Зарплата     5 non-null      int64 \n",
      " 6   Стаж работы  5 non-null      int64 \n",
      "dtypes: int32(1), int64(3), object(3)\n",
      "memory usage: 392.0+ bytes\n",
      "None\n"
     ]
    }
   ],
   "source": [
    "import numpy as np\n",
    "\n",
    "# Генерируем случайные возраста от 20 до 60\n",
    "np.random.seed(42)  # Для воспроизводимости\n",
    "random_ages = np.random.randint(20, 61, size=5)\n",
    "\n",
    "# Используем те же данные, но с случайными возрастами\n",
    "df_numpy = pd.DataFrame({\n",
    "    'ID': [1, 2, 3, 4, 5],\n",
    "    'Имя': ['Иван', 'Ольга', 'Алексей', 'Мария', 'Сергей'],\n",
    "    'Возраст': random_ages,\n",
    "    'Должность': ['Инженер', 'Аналитик', 'Менеджер', 'Программист', 'Специалист'],\n",
    "    'Отдел': ['IT', 'Маркетинг', 'Продажи', 'IT', 'HR'],\n",
    "    'Зарплата': [60000, 75000, 90000, 80000, 50000],\n",
    "    'Стаж работы': [2, 5, 15, 7, 3]\n",
    "})\n",
    "\n",
    "print(\"\\nDataFrame с случайными возрастами из NumPy:\")\n",
    "print(df_numpy)\n",
    "print(\"\\nИнформация о типах данных:\")\n",
    "print(df_numpy.info())"
   ]
  },
  {
   "cell_type": "code",
   "execution_count": null,
   "id": "cc53e502-ccf9-4054-ad40-4863380a7b05",
   "metadata": {},
   "outputs": [],
   "source": []
  }
 ],
 "metadata": {
  "kernelspec": {
   "display_name": "Python [conda env:base] *",
   "language": "python",
   "name": "conda-base-py"
  },
  "language_info": {
   "codemirror_mode": {
    "name": "ipython",
    "version": 3
   },
   "file_extension": ".py",
   "mimetype": "text/x-python",
   "name": "python",
   "nbconvert_exporter": "python",
   "pygments_lexer": "ipython3",
   "version": "3.12.7"
  }
 },
 "nbformat": 4,
 "nbformat_minor": 5
}
