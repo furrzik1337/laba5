{
 "cells": [
  {
   "cell_type": "code",
   "execution_count": 7,
   "id": "e316094d-64d2-4c9f-971c-6bd8d776f423",
   "metadata": {},
   "outputs": [],
   "source": [
    "import pandas as pd\n",
    "from IPython.display import display"
   ]
  },
  {
   "cell_type": "code",
   "execution_count": 5,
   "id": "6630b726-3adf-431c-80d5-509872e41b51",
   "metadata": {},
   "outputs": [
    {
     "name": "stdout",
     "output_type": "stream",
     "text": [
      "Requirement already satisfied: pandas in c:\\users\\furrzik\\anaconda3\\lib\\site-packages (2.2.2)\n",
      "Requirement already satisfied: black in c:\\users\\furrzik\\anaconda3\\lib\\site-packages (24.8.0)\n",
      "Requirement already satisfied: flake8 in c:\\users\\furrzik\\anaconda3\\lib\\site-packages (7.0.0)\n",
      "Requirement already satisfied: isort in c:\\users\\furrzik\\anaconda3\\lib\\site-packages (5.13.2)\n",
      "Requirement already satisfied: pre-commit in c:\\users\\furrzik\\anaconda3\\lib\\site-packages (4.2.0)\n",
      "Requirement already satisfied: pytest in c:\\users\\furrzik\\anaconda3\\lib\\site-packages (7.4.4)\n",
      "Requirement already satisfied: numpy>=1.26.0 in c:\\users\\furrzik\\anaconda3\\lib\\site-packages (from pandas) (1.26.4)\n",
      "Requirement already satisfied: python-dateutil>=2.8.2 in c:\\users\\furrzik\\anaconda3\\lib\\site-packages (from pandas) (2.9.0.post0)\n",
      "Requirement already satisfied: pytz>=2020.1 in c:\\users\\furrzik\\anaconda3\\lib\\site-packages (from pandas) (2024.1)\n",
      "Requirement already satisfied: tzdata>=2022.7 in c:\\users\\furrzik\\anaconda3\\lib\\site-packages (from pandas) (2023.3)\n",
      "Requirement already satisfied: click>=8.0.0 in c:\\users\\furrzik\\anaconda3\\lib\\site-packages (from black) (8.1.7)\n",
      "Requirement already satisfied: mypy-extensions>=0.4.3 in c:\\users\\furrzik\\anaconda3\\lib\\site-packages (from black) (1.0.0)\n",
      "Requirement already satisfied: packaging>=22.0 in c:\\users\\furrzik\\anaconda3\\lib\\site-packages (from black) (24.1)\n",
      "Requirement already satisfied: pathspec>=0.9.0 in c:\\users\\furrzik\\anaconda3\\lib\\site-packages (from black) (0.10.3)\n",
      "Requirement already satisfied: platformdirs>=2 in c:\\users\\furrzik\\anaconda3\\lib\\site-packages (from black) (3.10.0)\n",
      "Requirement already satisfied: mccabe<0.8.0,>=0.7.0 in c:\\users\\furrzik\\anaconda3\\lib\\site-packages (from flake8) (0.7.0)\n",
      "Requirement already satisfied: pycodestyle<2.12.0,>=2.11.0 in c:\\users\\furrzik\\anaconda3\\lib\\site-packages (from flake8) (2.11.1)\n",
      "Requirement already satisfied: pyflakes<3.3.0,>=3.2.0 in c:\\users\\furrzik\\anaconda3\\lib\\site-packages (from flake8) (3.2.0)\n",
      "Requirement already satisfied: cfgv>=2.0.0 in c:\\users\\furrzik\\anaconda3\\lib\\site-packages (from pre-commit) (3.4.0)\n",
      "Requirement already satisfied: identify>=1.0.0 in c:\\users\\furrzik\\anaconda3\\lib\\site-packages (from pre-commit) (2.6.12)\n",
      "Requirement already satisfied: nodeenv>=0.11.1 in c:\\users\\furrzik\\anaconda3\\lib\\site-packages (from pre-commit) (1.9.1)\n",
      "Requirement already satisfied: pyyaml>=5.1 in c:\\users\\furrzik\\anaconda3\\lib\\site-packages (from pre-commit) (6.0.1)\n",
      "Requirement already satisfied: virtualenv>=20.10.0 in c:\\users\\furrzik\\anaconda3\\lib\\site-packages (from pre-commit) (20.31.2)\n",
      "Requirement already satisfied: iniconfig in c:\\users\\furrzik\\anaconda3\\lib\\site-packages (from pytest) (1.1.1)\n",
      "Requirement already satisfied: pluggy<2.0,>=0.12 in c:\\users\\furrzik\\anaconda3\\lib\\site-packages (from pytest) (1.0.0)\n",
      "Requirement already satisfied: colorama in c:\\users\\furrzik\\anaconda3\\lib\\site-packages (from pytest) (0.4.6)\n",
      "Requirement already satisfied: six>=1.5 in c:\\users\\furrzik\\anaconda3\\lib\\site-packages (from python-dateutil>=2.8.2->pandas) (1.16.0)\n",
      "Requirement already satisfied: distlib<1,>=0.3.7 in c:\\users\\furrzik\\anaconda3\\lib\\site-packages (from virtualenv>=20.10.0->pre-commit) (0.3.9)\n",
      "Requirement already satisfied: filelock<4,>=3.12.2 in c:\\users\\furrzik\\anaconda3\\lib\\site-packages (from virtualenv>=20.10.0->pre-commit) (3.13.1)\n"
     ]
    }
   ],
   "source": [
    "#Установка пакетов и настройка окружения\n",
    "!pip install pandas black flake8 isort pre-commit pytest\n",
    "!python -m venv .venv"
   ]
  },
  {
   "cell_type": "code",
   "execution_count": 34,
   "id": "97d31d1c-4945-4233-8d07-76d5540d0d7d",
   "metadata": {},
   "outputs": [
    {
     "name": "stdout",
     "output_type": "stream",
     "text": [
      "==================================================\n",
      "Программа для работы с расписанием поездов\n",
      "==================================================\n",
      "\n",
      "==================================================\n",
      "1. Добавить поезд\n",
      "2. Найти поезда по пункту назначения\n",
      "3. Показать все поезда\n",
      "4. Выход\n"
     ]
    },
    {
     "name": "stdin",
     "output_type": "stream",
     "text": [
      "Выберите действие (1-4):  1\n"
     ]
    },
    {
     "name": "stdout",
     "output_type": "stream",
     "text": [
      "\n",
      "Добавление нового поезда:\n"
     ]
    },
    {
     "name": "stdin",
     "output_type": "stream",
     "text": [
      "Введите пункт назначения:  Москва\n",
      "Введите номер поезда:  7\n",
      "Введите время отправления (Часы:Минуты):  15:20\n"
     ]
    },
    {
     "name": "stdout",
     "output_type": "stream",
     "text": [
      "\n",
      "Поезд успешно добавлен!\n"
     ]
    },
    {
     "data": {
      "text/html": [
       "<div>\n",
       "<style scoped>\n",
       "    .dataframe tbody tr th:only-of-type {\n",
       "        vertical-align: middle;\n",
       "    }\n",
       "\n",
       "    .dataframe tbody tr th {\n",
       "        vertical-align: top;\n",
       "    }\n",
       "\n",
       "    .dataframe thead th {\n",
       "        text-align: right;\n",
       "    }\n",
       "</style>\n",
       "<table border=\"1\" class=\"dataframe\">\n",
       "  <thead>\n",
       "    <tr style=\"text-align: right;\">\n",
       "      <th></th>\n",
       "      <th>Пункт назначения</th>\n",
       "      <th>Номер поезда</th>\n",
       "      <th>Время отправления</th>\n",
       "    </tr>\n",
       "  </thead>\n",
       "  <tbody>\n",
       "    <tr>\n",
       "      <th>0</th>\n",
       "      <td>Москва</td>\n",
       "      <td>7</td>\n",
       "      <td>15:20</td>\n",
       "    </tr>\n",
       "  </tbody>\n",
       "</table>\n",
       "</div>"
      ],
      "text/plain": [
       "  Пункт назначения Номер поезда Время отправления\n",
       "0           Москва            7             15:20"
      ]
     },
     "metadata": {},
     "output_type": "display_data"
    },
    {
     "name": "stdout",
     "output_type": "stream",
     "text": [
      "\n",
      "==================================================\n",
      "1. Добавить поезд\n",
      "2. Найти поезда по пункту назначения\n",
      "3. Показать все поезда\n",
      "4. Выход\n"
     ]
    },
    {
     "name": "stdin",
     "output_type": "stream",
     "text": [
      "Выберите действие (1-4):  4\n"
     ]
    },
    {
     "name": "stdout",
     "output_type": "stream",
     "text": [
      "Выход из программы.\n"
     ]
    }
   ],
   "source": [
    "# import pandas as pd\n",
    "from IPython.display import display\n",
    "\n",
    "# Создаем DataFrame для хранения расписания\n",
    "columns = [\"Пункт назначения\", \"Номер поезда\", \"Время отправления\"]\n",
    "schedule = pd.DataFrame(columns=columns)\n",
    "\n",
    "def add_train():\n",
    "    \"\"\"Функция для добавления нового поезда\"\"\"\n",
    "    global schedule\n",
    "    \n",
    "    print(\"\\nДобавление нового поезда:\")\n",
    "    destination = input(\"Введите пункт назначения: \")\n",
    "    train_num = input(\"Введите номер поезда: \")\n",
    "    departure_time = input(\"Введите время отправления (Часы:Минуты): \")\n",
    "    \n",
    "    # Добавляем новую запись\n",
    "    new_row = pd.DataFrame([[destination, train_num, departure_time]], columns=columns)\n",
    "    schedule = pd.concat([schedule, new_row], ignore_index=True)\n",
    "    \n",
    "    # Сортируем по времени отправления\n",
    "    schedule['Время отправления'] = pd.to_datetime(schedule['Время отправления'], format='%H:%M')\n",
    "    schedule = schedule.sort_values('Время отправления')\n",
    "    schedule['Время отправления'] = schedule['Время отправления'].dt.strftime('%H:%M')\n",
    "    \n",
    "    print(\"\\nПоезд успешно добавлен!\")\n",
    "    display(schedule)\n",
    "\n",
    "def search_trains():\n",
    "    \"\"\"Функция для поиска поездов по пункту назначения\"\"\"\n",
    "    print(\"\\nПоиск поездов по пункту назначения\")\n",
    "    destination = input(\"Введите пункт назначения для поиска: \")\n",
    "    \n",
    "    # Ищем поезда (без учета регистра)\n",
    "    found_trains = schedule[schedule['Пункт назначения'].str.lower() == destination.lower()]\n",
    "    \n",
    "    if not found_trains.empty:\n",
    "        print(f\"\\nНайдено {len(found_trains)} поездов в {destination}:\")\n",
    "        display(found_trains)\n",
    "    else:\n",
    "        print(f\"\\nПоездов в пункт '{destination}' не найдено.\")\n",
    "\n",
    "def main_menu():\n",
    "    \"\"\"Главное меню программы\"\"\"\n",
    "    while True:\n",
    "        print(\"\\n\" + \"=\"*50)\n",
    "        print(\"1. Добавить поезд\")\n",
    "        print(\"2. Найти поезда по пункту назначения\")\n",
    "        print(\"3. Показать все поезда\")\n",
    "        print(\"4. Выход\")\n",
    "        \n",
    "        choice = input(\"Выберите действие (1-4): \")\n",
    "        \n",
    "        if choice == \"1\":\n",
    "            add_train()\n",
    "        elif choice == \"2\":\n",
    "            search_trains()\n",
    "        elif choice == \"3\":\n",
    "            print(\"\\nТекущее расписание поездов:\")\n",
    "            display(schedule)\n",
    "        elif choice == \"4\":\n",
    "            print(\"Выход из программы.\")\n",
    "            break\n",
    "        else:\n",
    "            print(\"Неверный ввод. Пожалуйста, выберите от 1 до 4.\")\n",
    "\n",
    "# Запускаем программу\n",
    "print(\"=\"*50)\n",
    "print(\"Программа для работы с расписанием поездов\")\n",
    "print(\"=\"*50)\n",
    "main_menu()"
   ]
  },
  {
   "cell_type": "code",
   "execution_count": 24,
   "id": "47b092bc-61ff-4525-a77b-832ef15c4f93",
   "metadata": {},
   "outputs": [
    {
     "name": "stdout",
     "output_type": "stream",
     "text": [
      "Тест пройден: поезд добавляется корректно\n"
     ]
    }
   ],
   "source": [
    "#Тест\n",
    "def test_add_train():\n",
    "    test_df = pd.DataFrame(columns=columns)\n",
    "    test_row = pd.DataFrame([[\"Москва\", \"001\", \"10:00\"]], columns=columns)\n",
    "    test_df = pd.concat([test_df, test_row])\n",
    "    assert len(test_df) == 1\n",
    "    print(\"Тест пройден: поезд добавляется корректно\")\n",
    "\n",
    "test_add_train()"
   ]
  },
  {
   "cell_type": "code",
   "execution_count": 28,
   "id": "de2630cd-a1fc-4225-9542-f97fdccc55ed",
   "metadata": {},
   "outputs": [
    {
     "name": "stdout",
     "output_type": "stream",
     "text": [
      "individ.ipynb:cell_2:1:1: E265 block comment should start with '# '\n",
      "individ.ipynb:cell_3:2:1: F811 redefinition of unused 'display' from line 3\n",
      "individ.ipynb:cell_3:2:1: E402 module level import not at top of file\n",
      "individ.ipynb:cell_3:12:1: W293 blank line contains whitespace\n",
      "individ.ipynb:cell_3:17:1: W293 blank line contains whitespace\n",
      "individ.ipynb:cell_3:21:1: W293 blank line contains whitespace\n",
      "individ.ipynb:cell_3:26:1: W293 blank line contains whitespace\n",
      "individ.ipynb:cell_3:35:1: W293 blank line contains whitespace\n",
      "individ.ipynb:cell_3:38:1: W293 blank line contains whitespace\n",
      "individ.ipynb:cell_3:49:25: E226 missing whitespace around arithmetic operator\n",
      "individ.ipynb:cell_3:54:1: W293 blank line contains whitespace\n",
      "individ.ipynb:cell_3:56:1: W293 blank line contains whitespace\n",
      "individ.ipynb:cell_3:72:10: E226 missing whitespace around arithmetic operator\n",
      "individ.ipynb:cell_3:74:10: E226 missing whitespace around arithmetic operator\n",
      "individ.ipynb:cell_4:1:1: E265 block comment should start with '# '\n",
      "individ.ipynb:cell_5:1:1: E265 block comment should start with '# '\n"
     ]
    }
   ],
   "source": [
    "#проверки стиля\n",
    "!pip install nbqa flake8 --quiet\n",
    "!nbqa flake8 individ.ipynb --ignore=E501"
   ]
  },
  {
   "cell_type": "code",
   "execution_count": null,
   "id": "f6449349-6255-42b5-a94d-caf3c3c33652",
   "metadata": {},
   "outputs": [],
   "source": []
  }
 ],
 "metadata": {
  "kernelspec": {
   "display_name": "Python [conda env:base] *",
   "language": "python",
   "name": "conda-base-py"
  },
  "language_info": {
   "codemirror_mode": {
    "name": "ipython",
    "version": 3
   },
   "file_extension": ".py",
   "mimetype": "text/x-python",
   "name": "python",
   "nbconvert_exporter": "python",
   "pygments_lexer": "ipython3",
   "version": "3.12.7"
  }
 },
 "nbformat": 4,
 "nbformat_minor": 5
}
